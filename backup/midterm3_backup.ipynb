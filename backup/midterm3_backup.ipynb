{
 "cells": [
  {
   "cell_type": "markdown",
   "metadata": {
    "collapsed": true,
    "pycharm": {
     "name": "#%% md\n"
    }
   },
   "source": [
    "# Q. #3"
   ]
  },
  {
   "cell_type": "code",
   "execution_count": 21,
   "metadata": {
    "pycharm": {
     "name": "#%%\n"
    }
   },
   "outputs": [],
   "source": [
    "# Import all the functions used in part 1\n",
    "from era_okid_tools import *\n",
    "prob = 3"
   ]
  },
  {
   "cell_type": "code",
   "execution_count": 22,
   "metadata": {
    "pycharm": {
     "name": "#%%\n"
    }
   },
   "outputs": [],
   "source": [
    "def sim_ss(A: np.ndarray, B: np.ndarray, Z: np.ndarray,\n",
    "           X_0: np.ndarray, U: np.ndarray,\n",
    "           nt: int) \\\n",
    "        -> typing.Tuple[np.ndarray, np.ndarray]:\n",
    "    \"\"\"Simulate linear state space model via ZOH.\n",
    "\n",
    "    :param np.ndarray A:\n",
    "    :param np.ndarray B:\n",
    "    :param np.ndarray C:\n",
    "    :param np.ndarray D:\n",
    "    :param np.ndarray X_0: Initial state condition\n",
    "    :param np.ndarray U: Inputs, either impulse or continual\n",
    "    :param nt: Number of timesteps to simulate\n",
    "    :return: (X) State vector array over duration; (Z) Observation vector array over duration\n",
    "    \"\"\"\n",
    "    assert D.shape == (C @ A @ B).shape\n",
    "    assert X_0.shape[-2] == A.shape[-1]\n",
    "    assert U.shape[-2] == B.shape[-1]\n",
    "    assert A.shape[-2] == B.shape[-2]\n",
    "    assert C.shape[-2] == D.shape[-2]\n",
    "    assert A.shape[-1] == C.shape[-1]\n",
    "    assert B.shape[-1] == D.shape[-1]\n",
    "    assert (U.shape[-1] == 1) or (U.shape[-1] == nt) or (U.shape[-1] == nt - 1)\n",
    "\n",
    "    X = np.concatenate([X_0, np.zeros([X_0.shape[-2], nt])], 1)\n",
    "    Z = np.zeros([C.shape[-2], nt])\n",
    "    if U.shape[-1] == 1: # Impulse\n",
    "        X[:, 1] = (A @ X[:, 0]) + (B @ U[:, 0])\n",
    "        Z[:, 0] = (C @ X[:, 0]) + (D @ U[:, 0])\n",
    "        for i in range(1, nt):\n",
    "            X[:, i + 1] = (A @ X[:, i])\n",
    "            Z[:, i] = (C @ X[:, i])\n",
    "    else: # Continual\n",
    "        for i in range(nt):\n",
    "            X[:, i + 1] = (A @ X[:, i]) + (B @ U[:, i])\n",
    "            Z[:, i] = (C @ X[:, i]) + (D @ U[:, i])\n",
    "    return X, Z\n",
    "\n",
    "def okid_nzic(Z: np.ndarray, U: np.ndarray,\n",
    "              l_0: int,\n",
    "              alpha: int, beta: int,\n",
    "              n: int):\n",
    "    \"\"\"Observer Kalman Identification Algorithm (OKID) for non-zero initial conditions.\n",
    "\n",
    "    :param np.ndarray Z: Observation vector array over duration\n",
    "    :param np.ndarray U: Continual inputs\n",
    "    :param int l_0: Order of OKID to execute (i.e., number of Markov parameters to generate via OKID)\n",
    "    :param int alpha: Num. of rows of Markov parameters in Hankel matrix\n",
    "    :param int beta: Num. of columns of Markov parameters in Hankel matrix\n",
    "    :param int n: Number of proposed states to use for ERA\n",
    "    :return: (Y) Markov parameters\n",
    "    :rtype: np.ndarray\n",
    "    \"\"\"\n",
    "    r, l_u = U.shape\n",
    "    m, l  = Z.shape\n",
    "    assert l == l_u\n",
    "    V = np.concatenate([U, Z], 0)\n",
    "    assert (max([alpha + beta, (n/m) + (n/r)]) <= l_0) and (l_0 <= (l - r)/(r + m)) # Boundary conditions\n",
    "\n",
    "    # Form observer\n",
    "    Y_2_Z = np.zeros([r + (r + m)*l_0, l])\n",
    "    Y_2_Z[:r, :] = U\n",
    "    for i in range(1, l_0 + 1):\n",
    "        Y_2_Z[((i*r) + ((i - 1)*m)):(((i + 1)*r) + (i*m)), :] = np.concatenate([np.zeros([r + m, i]), V[:, 0:(-i)]], 1)\n",
    "    # Find Observer Markov parameters via least-squares\n",
    "    Y_obs = Z @ spla.pinv2(Y_2_Z)\n",
    "    Y_bar_1 = np.array(list(it.chain.from_iterable([Y_obs[:, i:(i + r)]\n",
    "                                                    for i in range(r, r + (r + m)*l_0, r + m)]))).reshape([l_0, m, r])\n",
    "    Y_bar_2 = -np.array(list(it.chain.from_iterable([Y_obs[:, i:(i + m)]\n",
    "                                                     for i in range(2*r, r + (r + m)*l_0, r + m)]))).reshape([l_0, m, m])\n",
    "\n",
    "    # Obtain Markov parameters from Observer Markov parameters\n",
    "    Y = np.zeros([l_0 + 1, m, r])\n",
    "    Y[0] = Y_obs[:, :r]\n",
    "    for k in range(1, l_0 + 1):\n",
    "        Y[k] = Y_bar_1[k - 1] - \\\n",
    "               np.array([Y_bar_2[i] @ Y[k - (i + 1)]\n",
    "                         for i in range(k)]).sum(axis = 0)\n",
    "    # Obtain Observer Gain Markov parameters from Observer Markov parameters\n",
    "    Y_og = np.zeros([l_0, m, m])\n",
    "    Y_og[0] = Y_bar_2[0]\n",
    "    for k in range(1, l_0):\n",
    "        Y_og[k] = Y_bar_2[k] - \\\n",
    "                  np.array([Y_bar_2[i] @ Y_og[k - (i + 1)]\n",
    "                            for i in range(k - 1)]).sum(axis = 0)\n",
    "    return Y, Y_og"
   ]
  },
  {
   "cell_type": "code",
   "execution_count": 23,
   "metadata": {
    "pycharm": {
     "name": "#%%\n"
    }
   },
   "outputs": [],
   "source": [
    "# Set seed for consistent results\n",
    "rng = np.random.default_rng(seed = 100)\n",
    "\n",
    "# Simulation dimensions\n",
    "cases = 3 # Number of cases\n",
    "n = 2 # Number of states\n",
    "r = 1 # Number of inputs\n",
    "m = 2 # Number of measurements\n",
    "t_max = 50 # Total simulation time\n",
    "dt = 0.1 # Simulation timestep duration\n",
    "nt = int(t_max/dt) # Number of simulation timesteps\n",
    "\n",
    "# Simulation time\n",
    "train_cutoff = int(20/dt) + 1\n",
    "t_sim = np.linspace(0, t_max, nt + 1)\n",
    "t_train = t_sim[:train_cutoff]\n",
    "t_test = t_sim\n",
    "nt_train = train_cutoff\n",
    "nt_test = nt\n",
    "\n",
    "# Problem parameters\n",
    "theta_0 = 0.5 # Angular velocity\n",
    "k = 10 # Spring stiffness\n",
    "mass = 1 # Point mass\n",
    "\n",
    "# State space model\n",
    "A_c = np.array([[0, 1], [theta_0**2 - k/mass, 0]])\n",
    "B_c = np.array([[0], [1]])\n",
    "C = np.eye(2)\n",
    "D = np.array([[0], [1]])\n",
    "A, B = c2d(A_c, B_c, dt)\n",
    "eig_A = spla.eig(A_c)[0] # Eigenvalues of true system\n",
    "# etch(f\"\\lambda\", eig_A)\n",
    "# etch(f\"\\omega_{{n}}\", np.abs(eig_A))\n",
    "# etch(f\"\\zeta\", -np.cos(np.angle(eig_A)))\n",
    "\n",
    "# True simulation values\n",
    "X_0_sim = np.zeros([n, 1]) # Zero initial condition\n",
    "U_sim = np.zeros([cases, r, nt]) # True input vectors\n",
    "U_sim[0] = rng.normal(0, 0.1, [r, nt]) # True input for case 1\n",
    "U_sim[1] = spsg.square(2*np.pi*5*t_sim[:-1]) # True input for case 2\n",
    "U_sim[2] = np.cos(2*np.pi*2*t_sim[:-1]) # True input for case 3\n",
    "X_sim = np.zeros([cases, n, nt + 1]) # True state vectors\n",
    "Z_sim = np.zeros([cases, m, nt]) # True observation vectors\n",
    "\n",
    "# Separation into train and test data\n",
    "U_train = U_sim[0, :r, :train_cutoff] # Train input vector\n",
    "U_test = U_sim # Test input vectors\n",
    "X_train = np.zeros([n, nt_train + 1]) # Train state vector\n",
    "X_test = np.zeros([cases, n, nt_test + 1]) # Test state vectors\n",
    "Z_train = np.zeros([m, nt_train]) # Train observation vector\n",
    "Z_test = np.zeros([cases, m, nt_test]) # Test observation vectors"
   ]
  },
  {
   "cell_type": "code",
   "execution_count": 24,
   "metadata": {
    "pycharm": {
     "name": "#%%\n"
    }
   },
   "outputs": [
    {
     "name": "stdout",
     "output_type": "stream",
     "text": [
      "Min. OKID Order: 35\n",
      "Max. OKID Order: 66.6667\n",
      "Proposed OKID Order: 50\n"
     ]
    }
   ],
   "source": [
    "# OKID logistics\n",
    "order = 50 # Order of OKID algorithm, number of Markov parameters to identify after the zeroeth\n",
    "alpha, beta = 15, 20 # Number of block rows and columns in Hankel matrices\n",
    "n_era = 2 # Number of proposed states\n",
    "X_0_okid = np.zeros([n_era, 1]) # Zero initial condition\n",
    "\n",
    "print(f\"Min. OKID Order: {max([alpha + beta, (n_era/m) + (n_era/r)]):n}\")\n",
    "print(f\"Max. OKID Order: {(nt_train - r)/(r + m):n}\")\n",
    "print(f\"Proposed OKID Order: {order:n}\")"
   ]
  },
  {
   "cell_type": "markdown",
   "metadata": {},
   "source": [
    "As in problem 1, we propose to use an OKID order $l_0$ of $50$,\n",
    "$\\alpha = 15$, $\\beta = 20$, and $n_{ERA} = 2$."
   ]
  },
  {
   "cell_type": "code",
   "execution_count": 25,
   "metadata": {
    "pycharm": {
     "name": "#%%\n"
    }
   },
   "outputs": [],
   "source": [
    "# OKID System Markov parameters\n",
    "Y_okid = np.zeros([order + 1, m, r])\n",
    "# OKID Observer Markov Gain parameters\n",
    "Y_og_okid = np.zeros([order, m, m])\n",
    "# OKID state vector, drawn from state space model derived from OKID/ERA\n",
    "X_okid_train = np.zeros([n_era, nt_train + 1])\n",
    "X_okid_test = np.zeros([cases, n_era, nt_test + 1])\n",
    "# OKID observations, drawn from state space model derived from OKID/ERA\n",
    "Z_okid_train = np.zeros([n_era, nt_train])\n",
    "Z_okid_test = np.zeros([cases, n_era, nt_test])\n",
    "# Singular values of the Hankel matrix constructed through OKID Markov parameters\n",
    "S_okid = np.zeros([min(alpha*m, beta*r)])\n",
    "eig_A_okid = np.zeros([n_era], dtype = complex)"
   ]
  },
  {
   "cell_type": "code",
   "execution_count": 26,
   "metadata": {
    "pycharm": {
     "name": "#%%\n"
    }
   },
   "outputs": [
    {
     "name": "stdout",
     "output_type": "stream",
     "text": [
      "Rank of H(0): 2\n",
      "Rank of H(1): 2\n"
     ]
    }
   ],
   "source": [
    "# Simulation\n",
    "for i in range(cases):\n",
    "    X_sim[i], Z_sim[i] = sim_ss(A, B, C, D, X_0 = X_0_sim, U = U_sim[i], nt = nt)\n",
    "    if i == 0:\n",
    "        # Split between train and test data for case 1\n",
    "        X_train, Z_train = X_sim[i, :, :train_cutoff], Z_sim[i, :, :train_cutoff]\n",
    "        # Identify System Markov parameters and Observer Gain Markov parameters\n",
    "        Y_okid, Y_og_okid = okid_nzic(Z_train, U_train,\n",
    "                                      l_0 = order, alpha = alpha, beta = beta, n = n_era)\n",
    "        # Identify state space model using System Markov parameters for ERA\n",
    "        A_okid, B_okid, C_okid, D_okid, S_okid = \\\n",
    "            era(Y_okid, alpha = alpha, beta = beta, n = n_era)\n",
    "        # Construct observability matrix\n",
    "        O_p_okid = np.array([C_okid @ np.linalg.matrix_power(A_okid, i)\n",
    "                             for i in range(order)])\n",
    "        # Find observer gain matrix\n",
    "        G_okid = spla.pinv2(O_p_okid.reshape([order*m, n_era])) @ Y_og_okid.reshape([order*m, m])\n",
    "        A_okid_obs = A_okid + G_okid @ C_okid\n",
    "        B_okid_obs = B_okid + G_okid @ D_okid\n",
    "        X_okid_train, Z_okid_train = sim_ss(A_okid, B_okid, C_okid, D_okid,\n",
    "                                            X_0 = X_0_okid, U = U_train, nt = nt_train)\n",
    "        X_okid_train_obs, Z_okid_train_obs = sim_ss(A_okid_obs, B_okid_obs, C_okid, D_okid,\n",
    "                                                    X_0 = X_0_okid, U = U_train, nt = nt_train)\n",
    "        # Display outputs\n",
    "        # etch(f\"A_{{OKID}}\", A_okid)\n",
    "        # etch(f\"B_{{OKID}}\", B_okid)\n",
    "        # etch(f\"C_{{OKID}}\", C_okid)\n",
    "        # etch(f\"D_{{OKID}}\", D_okid)\n",
    "        # etch(f\"G_{{OKID}}\", G_okid)\n",
    "        # Calculate and display eigenvalues\n",
    "        # eig_A_okid = spla.eig(d2c(A_okid, B_okid, dt)[0])[0] # Eigenvalues of identified system\n",
    "        # etch(f\"\\hat{{\\lambda}}\", eig_A_okid)\n",
    "        # etch(f\"\\hat{{\\omega}}_{{n}}\", np.abs(eig_A_okid))\n",
    "        # etch(f\"\\hat{{\\zeta}}\", -np.cos(np.angle(eig_A_okid)))\n",
    "    X_test[i], Z_test[i] = X_sim[i], Z_sim[i]\n",
    "    X_okid_test[i], Z_okid_test[i] = sim_ss(A_okid, B_okid, C_okid, D_okid,\n",
    "                                            X_0 = X_0_okid, U = U_test[i], nt = nt_test)"
   ]
  },
  {
   "cell_type": "markdown",
   "metadata": {},
   "source": [
    "The eigenvalues of the system are accurately identified via OKID.\n",
    "The natural frequencies and damping ratios are essentially exactly identified."
   ]
  },
  {
   "cell_type": "code",
   "execution_count": 27,
   "metadata": {
    "pycharm": {
     "name": "#%%\n"
    }
   },
   "outputs": [
    {
     "name": "stdout",
     "output_type": "stream",
     "text": [
      "RMS Error of sim. for system found via OKID for train data: [7.91793053e-15 2.08865251e-15]\n",
      "RMS Error of sim. for system found via OKID for test data, case 0: [5.50948541e-14 1.19985519e-14]\n",
      "RMS Error of sim. for system found via OKID for test data, case 1: [1.00135613e-12 2.02885055e-13]\n",
      "RMS Error of sim. for system found via OKID for test data, case 2: [2.98872465e-14 8.45833578e-15]\n"
     ]
    }
   ],
   "source": [
    "RMS_train = np.sqrt(np.mean((Z_okid_train - Z_train)**2, axis = 1))\n",
    "print(f\"RMS Error of sim. for system found via OKID for train data: {RMS_train}\")\n",
    "RMS_test = np.zeros([cases, m])\n",
    "for i in range(cases):\n",
    "    RMS_test[i] = np.sqrt(np.mean((Z_okid_test[i] - Z_test[i])**2, axis = 1))\n",
    "    print(f\"RMS Error of sim. for system found via OKID for test data, case {i}: {RMS_test[i]}\")"
   ]
  },
  {
   "cell_type": "code",
   "execution_count": 28,
   "metadata": {
    "pycharm": {
     "name": "#%%\n"
    }
   },
   "outputs": [],
   "source": [
    "# # Eigenvalue plots\n",
    "# fig, ax = plt.subplots(constrained_layout = True) # type:figure.Figure\n",
    "# fig.suptitle(f\"[{prob}] Eigenvalues\", fontweight = \"bold\")\n",
    "#\n",
    "# ax.plot(np.real(eig_A), np.imag(eig_A),\n",
    "#          \"o\", mfc = \"None\")\n",
    "# ax.plot(np.real(eig_A_okid), np.imag(eig_A_okid),\n",
    "#          \"s\", mfc = \"None\")\n",
    "#\n",
    "# fig.legend(labels = (\"True\", \"OKID\"),\n",
    "#            bbox_to_anchor = (1, 0.5), loc = 6)\n",
    "# fig.savefig(figs_dir / f\"midterm_{prob}_eigval.pdf\",\n",
    "#             dpi = 80, bbox_inches = \"tight\")\n",
    "#\n",
    "# # Singular Value plots\n",
    "# fig, ax = plt.subplots(constrained_layout = True) # type:figure.Figure\n",
    "# fig.suptitle(f\"[{prob}] Singular Values\", fontweight = \"bold\")\n",
    "#\n",
    "# ax.plot(np.linspace(1, len(S_okid), len(S_okid)), S_okid,\n",
    "#          \"o\", mfc = \"None\")\n",
    "# plt.setp(ax, xlabel = f\"Singular Value\", ylabel = f\"Value\",\n",
    "#          xticks = np.arange(1, len(S_okid) + 1))\n",
    "#\n",
    "# fig.savefig(figs_dir / f\"midterm_{prob}_singval.pdf\",\n",
    "#             dpi = 80, bbox_inches = \"tight\")\n",
    "#\n",
    "# # Response plots\n",
    "# ms = 0.5 # Marker size\n",
    "# for i in range(cases):\n",
    "#     fig, axs = plt.subplots(1 + n, 1,\n",
    "#                             sharex = \"col\",\n",
    "#                             constrained_layout = True) # type:figure.Figure\n",
    "#     fig.suptitle(f\"[{prob}] State Responses (Case {i + 1})\",\n",
    "#                  fontweight = \"bold\")\n",
    "#\n",
    "#     if i == 0:\n",
    "#         axs[i].plot(t_sim[:-1], U_sim[i, 0])\n",
    "#         axs[i].plot(t_train, U_train[0],\n",
    "#                     \"o\", ms = ms, mfc = \"None\")\n",
    "#         axs[i].plot(t_test[train_cutoff:-1], U_test[i, 0, train_cutoff:],\n",
    "#                     \"s\", ms = ms, mfc = \"None\")\n",
    "#         plt.setp(axs[i], ylabel = f\"$u$\", xlim = [0, t_max])\n",
    "#\n",
    "#         for j in range(n):\n",
    "#             axs[j + 1].plot(t_sim, X_sim[i, j])\n",
    "#             axs[j + 1].plot(t_train, X_train[j],\n",
    "#                             \"o\", ms = ms, mfc = \"None\")\n",
    "#             axs[j + 1].plot(t_test[train_cutoff:], X_test[i, j, train_cutoff:],\n",
    "#                             \"s\", ms = ms, mfc = \"None\")\n",
    "#             plt.setp(axs[j + 1], ylabel = f\"$x_{j}$\", xlim = [0, t_max])\n",
    "#             if j == 1:\n",
    "#                 plt.setp(axs[j + 1], xlabel = f\"Time\")\n",
    "#         fig.legend(labels = (\"True\", \"Train\", \"Test\"),\n",
    "#                    bbox_to_anchor = (1, 0.5), loc = 6)\n",
    "#     else:\n",
    "#         axs[0].plot(t_sim[:-1], U_sim[i, 0])\n",
    "#         axs[0].plot(t_test[:-1], U_test[i, 0],\n",
    "#                     \"o\", ms = ms, mfc = \"None\")\n",
    "#         plt.setp(axs[0], ylabel = f\"$u$\", xlim = [0, t_max])\n",
    "#\n",
    "#         for j in range(n):\n",
    "#             axs[j + 1].plot(t_sim, X_sim[i, j])\n",
    "#             axs[j + 1].plot(t_test, X_test[i, j],\n",
    "#                             \"o\", ms = ms, mfc = \"None\")\n",
    "#             plt.setp(axs[j + 1], ylabel = f\"$x_{j}$\", xlim = [0, t_max])\n",
    "#             if j == 1:\n",
    "#                 plt.setp(axs[j + 1], xlabel = f\"Time\")\n",
    "#         fig.legend(labels = (\"True\", \"Test\"),\n",
    "#                    bbox_to_anchor = (1, 0.5), loc = 6)\n",
    "#     fig.savefig(figs_dir / f\"midterm_{prob}_states_case{i + 1}.pdf\",\n",
    "#                 dpi = 80, bbox_inches = \"tight\")\n",
    "#\n",
    "# # Observation plots\n",
    "# for i in range(cases):\n",
    "#     fig, axs = plt.subplots(m, 1,\n",
    "#                             sharex = \"col\",\n",
    "#                             constrained_layout = True) # type:figure.Figure\n",
    "#     fig.suptitle(f\"[{prob}] Observation Responses (Case {i + 1})\",\n",
    "#                  fontweight = \"bold\")\n",
    "#     if i == 0:\n",
    "#         for j in range(m):\n",
    "#             axs[j].plot(t_sim[:-1], Z_sim[i, j])\n",
    "#             axs[j].plot(t_train, Z_train[j],\n",
    "#                         \"o\", ms = ms, mfc = \"None\")\n",
    "#             axs[j].plot(t_test[train_cutoff:-1], Z_test[i, j, train_cutoff:],\n",
    "#                         \"s\", ms = ms, mfc = \"None\")\n",
    "#             axs[j].plot(t_train, Z_okid_train[j],\n",
    "#                         \"o\", ms = ms, mfc = \"None\")\n",
    "#             axs[j].plot(t_test[train_cutoff:-1], Z_okid_test[i, j, train_cutoff:],\n",
    "#                         \"D\", ms = ms, mfc = \"None\")\n",
    "#             plt.setp(axs[j], ylabel = f\"$z_{j}$\",\n",
    "#                      xlim = [0, t_max])\n",
    "#             if j == (m - 1):\n",
    "#                 plt.setp(axs[j], xlabel = f\"Time\")\n",
    "#         fig.legend(labels = [\"True\", \"Train\", \"Test\",\n",
    "#                              \"OKID\\n(Train)\", \"OKID\\n(Test)\"],\n",
    "#                    bbox_to_anchor = (1, 0.5), loc = 6)\n",
    "#     else:\n",
    "#         for j in range(m):\n",
    "#             axs[j].plot(t_sim[:-1], Z_sim[i, j])\n",
    "#             axs[j].plot(t_test[:-1], Z_test[i, j],\n",
    "#                         \"o\", ms = ms, mfc = \"None\")\n",
    "#             axs[j].plot(t_test[:-1], Z_okid_test[i, j],\n",
    "#                         \"s\", ms = ms, mfc = \"None\")\n",
    "#             plt.setp(axs[j], ylabel = f\"$z_{j}$\",\n",
    "#                      xlim = [0, t_max])\n",
    "#             if j == (m - 1):\n",
    "#                 plt.setp(axs[j], xlabel = f\"Time\")\n",
    "#         fig.legend(labels = [\"True\", \"Test\", \"OKID\\nTest\"],\n",
    "#                    bbox_to_anchor = (1, 0.5), loc = 6)\n",
    "#     fig.savefig(figs_dir / f\"midterm_{prob}_obs_case{i + 1}.pdf\",\n",
    "#                 dpi = 80, bbox_inches = \"tight\")\n",
    "#\n",
    "#     fig, axs = plt.subplots(m, 1,\n",
    "#                             sharex = \"col\",\n",
    "#                             constrained_layout = True) # type:figure.Figure\n",
    "#     fig.suptitle(f\"[{prob}] Observation Error (Case {i + 1})\",\n",
    "#                  fontweight = \"bold\")\n",
    "#     if i == 0:\n",
    "#         for j in range(m):\n",
    "#             axs[j].plot(t_train, np.abs(Z_okid_train[j] - Z_train[j]),\n",
    "#                         c = \"C1\")\n",
    "#             axs[j].plot(t_test[train_cutoff:-1], np.abs(Z_okid_test[i, j, train_cutoff:] - Z_test[i, j, train_cutoff:]),\n",
    "#                         \"o\", ms = ms, mfc = \"None\", c = \"C0\")\n",
    "#             plt.setp(axs[j], ylabel = f\"$z_{j}$\",\n",
    "#                      xlim = [0, t_max])\n",
    "#             if j == (m - 1):\n",
    "#                 plt.setp(axs[j], xlabel = f\"Time\")\n",
    "#         fig.legend(labels = [\"OKID\\nTrain\", \"OKID\\nTest\"],\n",
    "#                    bbox_to_anchor = (1, 0.5), loc = 6)\n",
    "#     else:\n",
    "#         for j in range(m):\n",
    "#             axs[j].plot(t_test[:-1], np.abs(Z_okid_test[i, j] - Z_test[i, j]),\n",
    "#                         \"o\", ms = ms, mfc = \"None\")\n",
    "#             plt.setp(axs[j], ylabel = f\"$z_{j}$\",\n",
    "#                      xlim = [0, t_max])\n",
    "#             if j == (m - 1):\n",
    "#                 plt.setp(axs[j], xlabel = f\"Time\")\n",
    "#         fig.legend(labels = [\"OKID\\nTest\"],\n",
    "#                    bbox_to_anchor = (1, 0.5), loc = 6)\n",
    "#     fig.savefig(figs_dir / f\"midterm_{prob}_obs-error_case{i + 1}.pdf\",\n",
    "#                 dpi = 80, bbox_inches = \"tight\")"
   ]
  }
 ],
 "metadata": {
  "authors": [
   {
    "name": "Ani Perumalla"
   }
  ],
  "kernelspec": {
   "display_name": "Python 3",
   "language": "python",
   "name": "python3"
  },
  "language_info": {
   "codemirror_mode": {
    "name": "ipython",
    "version": 3
   },
   "file_extension": ".py",
   "mimetype": "text/x-python",
   "name": "python",
   "nbconvert_exporter": "python",
   "pygments_lexer": "ipython3",
   "version": "3.8.8"
  },
  "title": "AERSP597 Midterm"
 },
 "nbformat": 4,
 "nbformat_minor": 1
}